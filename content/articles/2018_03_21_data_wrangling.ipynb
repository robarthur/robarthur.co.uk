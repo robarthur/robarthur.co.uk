{
 "cells": [
  {
   "cell_type": "markdown",
   "metadata": {},
   "source": [
    "# Data Wrangling with Pandas"
   ]
  },
  {
   "cell_type": "markdown",
   "metadata": {},
   "source": [
    "A couple of simple examples using some of the powerful built in pandas functions.  The data is taken from a DraftFantasy.com league."
   ]
  },
  {
   "cell_type": "code",
   "execution_count": 1,
   "metadata": {},
   "outputs": [],
   "source": [
    "import urllib\n",
    "from urllib.request import urlopen\n",
    "import json\n",
    "import pandas as pd\n",
    "import numpy as np\n",
    "from time import sleep"
   ]
  },
  {
   "cell_type": "markdown",
   "metadata": {},
   "source": [
    "## Data Retrieval\n",
    "\n",
    "Retrieve data from a GraphQL endpoint.  There's no authentication/token required to query the endpoint, so we just need to know the correct query, which in this case is encoded as a single string.\n",
    "\n",
    "Data is stored as a list of dicts, which a Pandas dataframe is created from."
   ]
  },
  {
   "cell_type": "code",
   "execution_count": 2,
   "metadata": {},
   "outputs": [],
   "source": [
    "base_url=\"https://draftfantasyfootball.co.uk/graphql\"\n",
    "gw=1\n",
    "latest_gw=32\n",
    "gw_data=[]\n",
    "while gw <= latest_gw:\n",
    "    #Let's be a friendly scraper and throw a sleep in.  3 seconds should do the trick.\n",
    "    sleep(3)\n",
    "    try:\n",
    "        d={\"operationName\":\"getHeadToHeadMatches\",\"variables\":{\"leagueId\":\"ABWkR4hBw4GWmSp8q\",\"gameweek\":gw},\"query\":\"query getHeadToHeadMatches($leagueId: String!, $gameweek: Int!) {\\n  headToHeadMatches(leagueId: $leagueId, gameweek: $gameweek) {\\n    _id\\n    gameweek\\n    leagueId\\n    team1 {\\n      _id\\n      name\\n      liveGameweekPoints(gameweek: $gameweek)\\n      user {\\n        profile {\\n          firstName\\n          lastName\\n          __typename\\n        }\\n        __typename\\n      }\\n      __typename\\n    }\\n    team2 {\\n      _id\\n      name\\n      liveGameweekPoints(gameweek: $gameweek)\\n      user {\\n        profile {\\n          firstName\\n          lastName\\n          __typename\\n        }\\n        __typename\\n      }\\n      __typename\\n    }\\n    __typename\\n  }\\n}\\n\"}\n",
    "        hdr = {'content-type': 'application/json'}\n",
    "        req = urllib.request.Request(base_url,headers=hdr, data=bytes(json.dumps(d), encoding=\"utf-8\"))\n",
    "        site_data = urlopen(req)\n",
    "        data = json.load(site_data)\n",
    "        gw_data+=data['data']['headToHeadMatches']\n",
    "        gw+=1\n",
    "    except Exception as e:\n",
    "        print(\"error retrieving : {}\".format(base_url))\n",
    "        print(e)\n",
    "        break"
   ]
  },
  {
   "cell_type": "code",
   "execution_count": 3,
   "metadata": {},
   "outputs": [],
   "source": [
    "df = pd.DataFrame(gw_data)"
   ]
  },
  {
   "cell_type": "code",
   "execution_count": 4,
   "metadata": {},
   "outputs": [
    {
     "data": {
      "text/html": [
       "<div>\n",
       "<table border=\"1\" class=\"dataframe\">\n",
       "  <thead>\n",
       "    <tr style=\"text-align: right;\">\n",
       "      <th></th>\n",
       "      <th>__typename</th>\n",
       "      <th>_id</th>\n",
       "      <th>gameweek</th>\n",
       "      <th>leagueId</th>\n",
       "      <th>team1</th>\n",
       "      <th>team2</th>\n",
       "    </tr>\n",
       "  </thead>\n",
       "  <tbody>\n",
       "    <tr>\n",
       "      <th>0</th>\n",
       "      <td>HeadToHeadMatch</td>\n",
       "      <td>2siym5Z2sFKN3a7hi</td>\n",
       "      <td>1</td>\n",
       "      <td>ABWkR4hBw4GWmSp8q</td>\n",
       "      <td>{'__typename': 'Team', '_id': 'wbed7EjRC9T3n6x...</td>\n",
       "      <td>None</td>\n",
       "    </tr>\n",
       "    <tr>\n",
       "      <th>1</th>\n",
       "      <td>HeadToHeadMatch</td>\n",
       "      <td>jSPLCJCGJZ6A4BbFY</td>\n",
       "      <td>1</td>\n",
       "      <td>ABWkR4hBw4GWmSp8q</td>\n",
       "      <td>{'__typename': 'Team', '_id': 'Y9s5ai5jTk2azRD...</td>\n",
       "      <td>{'__typename': 'Team', '_id': '6pn7hitEDGtRQmr...</td>\n",
       "    </tr>\n",
       "    <tr>\n",
       "      <th>2</th>\n",
       "      <td>HeadToHeadMatch</td>\n",
       "      <td>oKGQCETdijgnspKhz</td>\n",
       "      <td>1</td>\n",
       "      <td>ABWkR4hBw4GWmSp8q</td>\n",
       "      <td>{'__typename': 'Team', '_id': '6pdanoFD84n4zKL...</td>\n",
       "      <td>{'__typename': 'Team', '_id': 'rgF7P3CeNZP7cRt...</td>\n",
       "    </tr>\n",
       "    <tr>\n",
       "      <th>3</th>\n",
       "      <td>HeadToHeadMatch</td>\n",
       "      <td>WrsPi6Nvoi5AYNMik</td>\n",
       "      <td>1</td>\n",
       "      <td>ABWkR4hBw4GWmSp8q</td>\n",
       "      <td>{'__typename': 'Team', '_id': '7opskg8Tc6SfsXA...</td>\n",
       "      <td>{'__typename': 'Team', '_id': 'BBXHYEt6GPrZsNL...</td>\n",
       "    </tr>\n",
       "    <tr>\n",
       "      <th>4</th>\n",
       "      <td>HeadToHeadMatch</td>\n",
       "      <td>KYpEWb9SL2aYqyCdA</td>\n",
       "      <td>2</td>\n",
       "      <td>ABWkR4hBw4GWmSp8q</td>\n",
       "      <td>{'__typename': 'Team', '_id': 'wbed7EjRC9T3n6x...</td>\n",
       "      <td>{'__typename': 'Team', '_id': '6pn7hitEDGtRQmr...</td>\n",
       "    </tr>\n",
       "  </tbody>\n",
       "</table>\n",
       "</div>"
      ],
      "text/plain": [
       "        __typename                _id  gameweek           leagueId  \\\n",
       "0  HeadToHeadMatch  2siym5Z2sFKN3a7hi         1  ABWkR4hBw4GWmSp8q   \n",
       "1  HeadToHeadMatch  jSPLCJCGJZ6A4BbFY         1  ABWkR4hBw4GWmSp8q   \n",
       "2  HeadToHeadMatch  oKGQCETdijgnspKhz         1  ABWkR4hBw4GWmSp8q   \n",
       "3  HeadToHeadMatch  WrsPi6Nvoi5AYNMik         1  ABWkR4hBw4GWmSp8q   \n",
       "4  HeadToHeadMatch  KYpEWb9SL2aYqyCdA         2  ABWkR4hBw4GWmSp8q   \n",
       "\n",
       "                                               team1  \\\n",
       "0  {'__typename': 'Team', '_id': 'wbed7EjRC9T3n6x...   \n",
       "1  {'__typename': 'Team', '_id': 'Y9s5ai5jTk2azRD...   \n",
       "2  {'__typename': 'Team', '_id': '6pdanoFD84n4zKL...   \n",
       "3  {'__typename': 'Team', '_id': '7opskg8Tc6SfsXA...   \n",
       "4  {'__typename': 'Team', '_id': 'wbed7EjRC9T3n6x...   \n",
       "\n",
       "                                               team2  \n",
       "0                                               None  \n",
       "1  {'__typename': 'Team', '_id': '6pn7hitEDGtRQmr...  \n",
       "2  {'__typename': 'Team', '_id': 'rgF7P3CeNZP7cRt...  \n",
       "3  {'__typename': 'Team', '_id': 'BBXHYEt6GPrZsNL...  \n",
       "4  {'__typename': 'Team', '_id': '6pn7hitEDGtRQmr...  "
      ]
     },
     "execution_count": 4,
     "metadata": {},
     "output_type": "execute_result"
    }
   ],
   "source": [
    "df.head()"
   ]
  },
  {
   "cell_type": "markdown",
   "metadata": {},
   "source": [
    "## Data Wrangling\n",
    "\n",
    "The data is created from a hierarchical JSON format which is reflected in the data frame.  Team information is stored within a dict within the data frame.  The first thing we need to do is expand the dict and flatten the data.\n",
    "\n",
    "Our observations are based around each team's gameweek, so that's what each row should reflect."
   ]
  },
  {
   "cell_type": "markdown",
   "metadata": {},
   "source": [
    "### Metling data\n",
    "\n",
    "We want a single team colum.  The **melt** makes our dataframe 'less wide' i.e. unpivots our team1/team2 column and preserves the remaining columns.\n",
    "\n",
    "We can then drop a bunch of columns that we're not interested in and expand the dict in the resuling 'value' column to the values that we're interested in "
   ]
  },
  {
   "cell_type": "code",
   "execution_count": 5,
   "metadata": {},
   "outputs": [],
   "source": [
    "df['match_id'] = df.index\n",
    "df_1 = pd.melt(df, id_vars=[\"__typename\", \"_id\", \"gameweek\",\"leagueId\",\"match_id\"], var_name=\"team\")"
   ]
  },
  {
   "cell_type": "code",
   "execution_count": 6,
   "metadata": {},
   "outputs": [
    {
     "data": {
      "text/html": [
       "<div>\n",
       "<table border=\"1\" class=\"dataframe\">\n",
       "  <thead>\n",
       "    <tr style=\"text-align: right;\">\n",
       "      <th></th>\n",
       "      <th>_id</th>\n",
       "      <th>gameweek</th>\n",
       "      <th>match_id</th>\n",
       "      <th>__typename</th>\n",
       "      <th>_id</th>\n",
       "      <th>liveGameweekPoints</th>\n",
       "      <th>name</th>\n",
       "      <th>user</th>\n",
       "    </tr>\n",
       "  </thead>\n",
       "  <tbody>\n",
       "    <tr>\n",
       "      <th>0</th>\n",
       "      <td>2siym5Z2sFKN3a7hi</td>\n",
       "      <td>1</td>\n",
       "      <td>0</td>\n",
       "      <td>Team</td>\n",
       "      <td>wbed7EjRC9T3n6x9N</td>\n",
       "      <td>48.0</td>\n",
       "      <td>Carpet Munchers</td>\n",
       "      <td>{'__typename': 'User', 'profile': {'__typename...</td>\n",
       "    </tr>\n",
       "    <tr>\n",
       "      <th>1</th>\n",
       "      <td>jSPLCJCGJZ6A4BbFY</td>\n",
       "      <td>1</td>\n",
       "      <td>1</td>\n",
       "      <td>Team</td>\n",
       "      <td>Y9s5ai5jTk2azRDav</td>\n",
       "      <td>41.0</td>\n",
       "      <td>Draft Excluders</td>\n",
       "      <td>{'__typename': 'User', 'profile': {'__typename...</td>\n",
       "    </tr>\n",
       "    <tr>\n",
       "      <th>2</th>\n",
       "      <td>oKGQCETdijgnspKhz</td>\n",
       "      <td>1</td>\n",
       "      <td>2</td>\n",
       "      <td>Team</td>\n",
       "      <td>6pdanoFD84n4zKLXb</td>\n",
       "      <td>55.0</td>\n",
       "      <td>The Wrecking Balls</td>\n",
       "      <td>{'__typename': 'User', 'profile': {'__typename...</td>\n",
       "    </tr>\n",
       "    <tr>\n",
       "      <th>3</th>\n",
       "      <td>WrsPi6Nvoi5AYNMik</td>\n",
       "      <td>1</td>\n",
       "      <td>3</td>\n",
       "      <td>Team</td>\n",
       "      <td>7opskg8Tc6SfsXAnf</td>\n",
       "      <td>38.0</td>\n",
       "      <td>Dr Wankenstein</td>\n",
       "      <td>{'__typename': 'User', 'profile': {'__typename...</td>\n",
       "    </tr>\n",
       "    <tr>\n",
       "      <th>4</th>\n",
       "      <td>KYpEWb9SL2aYqyCdA</td>\n",
       "      <td>2</td>\n",
       "      <td>4</td>\n",
       "      <td>Team</td>\n",
       "      <td>wbed7EjRC9T3n6x9N</td>\n",
       "      <td>43.0</td>\n",
       "      <td>Carpet Munchers</td>\n",
       "      <td>{'__typename': 'User', 'profile': {'__typename...</td>\n",
       "    </tr>\n",
       "    <tr>\n",
       "      <th>5</th>\n",
       "      <td>aymJHZcdCvktJ7bF2</td>\n",
       "      <td>2</td>\n",
       "      <td>5</td>\n",
       "      <td>NaN</td>\n",
       "      <td>NaN</td>\n",
       "      <td>NaN</td>\n",
       "      <td>NaN</td>\n",
       "      <td>NaN</td>\n",
       "    </tr>\n",
       "    <tr>\n",
       "      <th>6</th>\n",
       "      <td>dbwNpp4DcsfMGu6cJ</td>\n",
       "      <td>2</td>\n",
       "      <td>6</td>\n",
       "      <td>Team</td>\n",
       "      <td>Y9s5ai5jTk2azRDav</td>\n",
       "      <td>40.0</td>\n",
       "      <td>Draft Excluders</td>\n",
       "      <td>{'__typename': 'User', 'profile': {'__typename...</td>\n",
       "    </tr>\n",
       "    <tr>\n",
       "      <th>7</th>\n",
       "      <td>RXeZMfSu9WHY55hKW</td>\n",
       "      <td>2</td>\n",
       "      <td>7</td>\n",
       "      <td>Team</td>\n",
       "      <td>6pdanoFD84n4zKLXb</td>\n",
       "      <td>43.0</td>\n",
       "      <td>The Wrecking Balls</td>\n",
       "      <td>{'__typename': 'User', 'profile': {'__typename...</td>\n",
       "    </tr>\n",
       "  </tbody>\n",
       "</table>\n",
       "</div>"
      ],
      "text/plain": [
       "                 _id  gameweek  match_id __typename                _id  \\\n",
       "0  2siym5Z2sFKN3a7hi         1         0       Team  wbed7EjRC9T3n6x9N   \n",
       "1  jSPLCJCGJZ6A4BbFY         1         1       Team  Y9s5ai5jTk2azRDav   \n",
       "2  oKGQCETdijgnspKhz         1         2       Team  6pdanoFD84n4zKLXb   \n",
       "3  WrsPi6Nvoi5AYNMik         1         3       Team  7opskg8Tc6SfsXAnf   \n",
       "4  KYpEWb9SL2aYqyCdA         2         4       Team  wbed7EjRC9T3n6x9N   \n",
       "5  aymJHZcdCvktJ7bF2         2         5        NaN                NaN   \n",
       "6  dbwNpp4DcsfMGu6cJ         2         6       Team  Y9s5ai5jTk2azRDav   \n",
       "7  RXeZMfSu9WHY55hKW         2         7       Team  6pdanoFD84n4zKLXb   \n",
       "\n",
       "   liveGameweekPoints                name  \\\n",
       "0                48.0     Carpet Munchers   \n",
       "1                41.0     Draft Excluders   \n",
       "2                55.0  The Wrecking Balls   \n",
       "3                38.0      Dr Wankenstein   \n",
       "4                43.0     Carpet Munchers   \n",
       "5                 NaN                 NaN   \n",
       "6                40.0     Draft Excluders   \n",
       "7                43.0  The Wrecking Balls   \n",
       "\n",
       "                                                user  \n",
       "0  {'__typename': 'User', 'profile': {'__typename...  \n",
       "1  {'__typename': 'User', 'profile': {'__typename...  \n",
       "2  {'__typename': 'User', 'profile': {'__typename...  \n",
       "3  {'__typename': 'User', 'profile': {'__typename...  \n",
       "4  {'__typename': 'User', 'profile': {'__typename...  \n",
       "5                                                NaN  \n",
       "6  {'__typename': 'User', 'profile': {'__typename...  \n",
       "7  {'__typename': 'User', 'profile': {'__typename...  "
      ]
     },
     "execution_count": 6,
     "metadata": {},
     "output_type": "execute_result"
    }
   ],
   "source": [
    "df_2 = pd.concat([df_1.drop(['value','leagueId','team','__typename'], axis=1), df_1['value'].apply(pd.Series)], axis=1)\n",
    "df_2.head(8)"
   ]
  },
  {
   "cell_type": "markdown",
   "metadata": {},
   "source": [
    "### Handling Missing Average Data\n",
    "\n",
    "The data we retrieved from the site is missing team information for the 'Average' team.  These need to be calculated and filled in.\n",
    "\n",
    "The name is trivial, we can just use the built in **fillna** function on the name column.\n",
    "\n",
    "Calculating the average score is slightly less obvious, but is a good opportunity to use the **transform** function. We call transform on our **groupby** object which which returns a NDFrame.  The method we call replaces the NaN in each group with the mean of the other values.\n",
    "\n",
    "We want an int for our scope so **apply** np.round to the resulting score."
   ]
  },
  {
   "cell_type": "code",
   "execution_count": 7,
   "metadata": {},
   "outputs": [],
   "source": [
    "df_3 = df_2.drop([\"_id\",\"__typename\",\"user\"], axis=1).sort_values(by='match_id').reset_index(drop=True)\n",
    "df_3[['name']] = df_3[['name']].fillna(value='Average')"
   ]
  },
  {
   "cell_type": "code",
   "execution_count": 8,
   "metadata": {},
   "outputs": [],
   "source": [
    "df_3[\"liveGameweekPoints\"] = df_3.groupby(\"gameweek\")[\"liveGameweekPoints\"].transform(lambda x: x.fillna((x.mean())))\n",
    "df_3[\"liveGameweekPoints\"] = df_3[\"liveGameweekPoints\"].apply(np.round)"
   ]
  },
  {
   "cell_type": "code",
   "execution_count": 9,
   "metadata": {},
   "outputs": [
    {
     "data": {
      "text/html": [
       "<div>\n",
       "<table border=\"1\" class=\"dataframe\">\n",
       "  <thead>\n",
       "    <tr style=\"text-align: right;\">\n",
       "      <th></th>\n",
       "      <th>gameweek</th>\n",
       "      <th>match_id</th>\n",
       "      <th>liveGameweekPoints</th>\n",
       "      <th>name</th>\n",
       "    </tr>\n",
       "  </thead>\n",
       "  <tbody>\n",
       "    <tr>\n",
       "      <th>0</th>\n",
       "      <td>1</td>\n",
       "      <td>0</td>\n",
       "      <td>48.0</td>\n",
       "      <td>Carpet Munchers</td>\n",
       "    </tr>\n",
       "    <tr>\n",
       "      <th>1</th>\n",
       "      <td>1</td>\n",
       "      <td>0</td>\n",
       "      <td>45.0</td>\n",
       "      <td>Average</td>\n",
       "    </tr>\n",
       "    <tr>\n",
       "      <th>2</th>\n",
       "      <td>1</td>\n",
       "      <td>1</td>\n",
       "      <td>40.0</td>\n",
       "      <td>Ben Foster on Draft</td>\n",
       "    </tr>\n",
       "    <tr>\n",
       "      <th>3</th>\n",
       "      <td>1</td>\n",
       "      <td>1</td>\n",
       "      <td>41.0</td>\n",
       "      <td>Draft Excluders</td>\n",
       "    </tr>\n",
       "    <tr>\n",
       "      <th>4</th>\n",
       "      <td>1</td>\n",
       "      <td>2</td>\n",
       "      <td>55.0</td>\n",
       "      <td>The Wrecking Balls</td>\n",
       "    </tr>\n",
       "  </tbody>\n",
       "</table>\n",
       "</div>"
      ],
      "text/plain": [
       "   gameweek  match_id  liveGameweekPoints                 name\n",
       "0         1         0                48.0      Carpet Munchers\n",
       "1         1         0                45.0              Average\n",
       "2         1         1                40.0  Ben Foster on Draft\n",
       "3         1         1                41.0      Draft Excluders\n",
       "4         1         2                55.0   The Wrecking Balls"
      ]
     },
     "execution_count": 9,
     "metadata": {},
     "output_type": "execute_result"
    }
   ],
   "source": [
    "df_3.head()"
   ]
  },
  {
   "cell_type": "markdown",
   "metadata": {},
   "source": [
    "### Calculating Opponent Score and Resulting Points\n",
    "\n",
    "We duplicate the gameweek points column and group by our \"match_id\" (i.e. the duplicate of the initial dataframe index).  We then want to reverse each grouped object and return a dataframe - this is what the **apply** and **reset_index** functions do.\n",
    "\n",
    "We then **apply** the logic to calculate score i.e. 3 points for a win, 1 for a draw, 0 for a loss.\n",
    "\n",
    "The rolling score for each week as calculated using the **cumsum** function."
   ]
  },
  {
   "cell_type": "code",
   "execution_count": 10,
   "metadata": {},
   "outputs": [],
   "source": [
    "df_4 = df_3\n",
    "df_4['opponent_score'] = df_4['liveGameweekPoints']\n",
    "df_4['opponent_name'] = df_4['name']\n",
    "df_4['opponent_score'] = df_4.groupby(\"match_id\")['opponent_score'].apply(lambda x: x.iloc[::-1]).reset_index(drop=True)\n",
    "df_4a=df_4\n",
    "df_4a['opponent_name'] = df_4.groupby(\"match_id\")['opponent_name'].apply(lambda x: x.iloc[::-1]).reset_index(drop=True)"
   ]
  },
  {
   "cell_type": "code",
   "execution_count": 11,
   "metadata": {},
   "outputs": [
    {
     "data": {
      "text/html": [
       "<div>\n",
       "<table border=\"1\" class=\"dataframe\">\n",
       "  <thead>\n",
       "    <tr style=\"text-align: right;\">\n",
       "      <th></th>\n",
       "      <th>gameweek</th>\n",
       "      <th>match_id</th>\n",
       "      <th>liveGameweekPoints</th>\n",
       "      <th>name</th>\n",
       "      <th>opponent_score</th>\n",
       "      <th>opponent_name</th>\n",
       "    </tr>\n",
       "  </thead>\n",
       "  <tbody>\n",
       "    <tr>\n",
       "      <th>0</th>\n",
       "      <td>1</td>\n",
       "      <td>0</td>\n",
       "      <td>48.0</td>\n",
       "      <td>Carpet Munchers</td>\n",
       "      <td>45.0</td>\n",
       "      <td>Average</td>\n",
       "    </tr>\n",
       "    <tr>\n",
       "      <th>1</th>\n",
       "      <td>1</td>\n",
       "      <td>0</td>\n",
       "      <td>45.0</td>\n",
       "      <td>Average</td>\n",
       "      <td>48.0</td>\n",
       "      <td>Carpet Munchers</td>\n",
       "    </tr>\n",
       "    <tr>\n",
       "      <th>2</th>\n",
       "      <td>1</td>\n",
       "      <td>1</td>\n",
       "      <td>40.0</td>\n",
       "      <td>Ben Foster on Draft</td>\n",
       "      <td>41.0</td>\n",
       "      <td>Draft Excluders</td>\n",
       "    </tr>\n",
       "    <tr>\n",
       "      <th>3</th>\n",
       "      <td>1</td>\n",
       "      <td>1</td>\n",
       "      <td>41.0</td>\n",
       "      <td>Draft Excluders</td>\n",
       "      <td>40.0</td>\n",
       "      <td>Ben Foster on Draft</td>\n",
       "    </tr>\n",
       "    <tr>\n",
       "      <th>4</th>\n",
       "      <td>1</td>\n",
       "      <td>2</td>\n",
       "      <td>55.0</td>\n",
       "      <td>The Wrecking Balls</td>\n",
       "      <td>50.0</td>\n",
       "      <td>On This Sunday</td>\n",
       "    </tr>\n",
       "  </tbody>\n",
       "</table>\n",
       "</div>"
      ],
      "text/plain": [
       "   gameweek  match_id  liveGameweekPoints                 name  \\\n",
       "0         1         0                48.0      Carpet Munchers   \n",
       "1         1         0                45.0              Average   \n",
       "2         1         1                40.0  Ben Foster on Draft   \n",
       "3         1         1                41.0      Draft Excluders   \n",
       "4         1         2                55.0   The Wrecking Balls   \n",
       "\n",
       "   opponent_score        opponent_name  \n",
       "0            45.0              Average  \n",
       "1            48.0      Carpet Munchers  \n",
       "2            41.0      Draft Excluders  \n",
       "3            40.0  Ben Foster on Draft  \n",
       "4            50.0       On This Sunday  "
      ]
     },
     "execution_count": 11,
     "metadata": {},
     "output_type": "execute_result"
    }
   ],
   "source": [
    "df_4.head()"
   ]
  },
  {
   "cell_type": "code",
   "execution_count": 12,
   "metadata": {},
   "outputs": [],
   "source": [
    "df_5=df_4\n",
    "df_4['score'] = df_4.apply(lambda x: 3 if x['liveGameweekPoints'] > x['opponent_score'] else 1 if x['liveGameweekPoints'] == x['opponent_score'] else 0, axis=1)"
   ]
  },
  {
   "cell_type": "code",
   "execution_count": 13,
   "metadata": {},
   "outputs": [],
   "source": [
    "df_6=df_5\n",
    "df_6['rolling_score']=df_6.groupby(by=\"name\")['score'].cumsum()"
   ]
  },
  {
   "cell_type": "markdown",
   "metadata": {},
   "source": [
    "## Flattening and Graphing the Data\n",
    "\n",
    "Group by manager name and gameweek.  Expand the dataframe using the **unstack** function.\n",
    "\n",
    "Finally plot the data into a graph."
   ]
  },
  {
   "cell_type": "code",
   "execution_count": 15,
   "metadata": {},
   "outputs": [],
   "source": [
    "# use unstack()\n",
    "df_6_actual = df_6[df_6['gameweek']<latest_gw]\n",
    "df_6_projected = df_6[df_6['gameweek']>=latest_gw]\n",
    "df_7_actual = df_6_actual.groupby(['gameweek','name']).first()['rolling_score'].unstack()\n",
    "df_7_projected = df_6_projected.groupby(['gameweek','name']).first()['rolling_score'].unstack()"
   ]
  },
  {
   "cell_type": "code",
   "execution_count": 16,
   "metadata": {},
   "outputs": [
    {
     "data": {
      "text/plain": [
       "<matplotlib.axes._subplots.AxesSubplot at 0x7f98d09350b8>"
      ]
     },
     "execution_count": 16,
     "metadata": {},
     "output_type": "execute_result"
    },
    {
     "data": {
      "image/png": "[encoded data removed]",
      "text/plain": [
       "<matplotlib.figure.Figure at 0x7f98d2dea2e8>"
      ]
     },
     "metadata": {},
     "output_type": "display_data"
    }
   ],
   "source": [
    "%matplotlib inline\n",
    "import matplotlib.pyplot as plt\n",
    "from matplotlib import animation\n",
    "# plot data\n",
    "fig, ax = plt.subplots(figsize=(15,7))\n",
    "df_7_actual.plot(ax=ax)"
   ]
  }
 ],
 "metadata": {
  "title": "Data Wrangling With Fantasy Football and Pandas",
  "date": "2018-03-21 20:04",
  "modified": "2018-03-21 20:04",
  "category": "Data-Science",
  "tags": "Python, Pandas, Matplotlib, Jupyter",
  "slug": "data-wrangling-with-fantasy-football-and-pandas",
  "summary":"Testing 123",
  "kernelspec": {
   "display_name": "Python 3",
   "language": "python",
   "name": "python3"
  },
  "language_info": {
   "codemirror_mode": {
    "name": "ipython",
    "version": 3
   },
   "file_extension": ".py",
   "mimetype": "text/x-python",
   "name": "python",
   "nbconvert_exporter": "python",
   "pygments_lexer": "ipython3",
   "version": "3.6.3"
  }
 },
 "nbformat": 4,
 "nbformat_minor": 2
}
